{
 "cells": [
  {
   "cell_type": "markdown",
   "id": "42912eb7",
   "metadata": {},
   "source": [
    "# What is NumPy?\n",
    "NumPy is a Python library used for working with arrays.\n",
    "\n",
    "It also has functions for working in domain of linear algebra, fourier transform, and matrices.\n",
    "\n",
    "NumPy was created in 2005 by Travis Oliphant. It is an open source project and you can use it freely.\n",
    "\n",
    "NumPy stands for Numerical Python"
   ]
  },
  {
   "cell_type": "code",
   "execution_count": null,
   "id": "966722cb",
   "metadata": {},
   "outputs": [],
   "source": []
  },
  {
   "cell_type": "markdown",
   "id": "c45fb95f",
   "metadata": {},
   "source": [
    "# Why Use NumPy?\n",
    "In Python we have lists that serve the purpose of arrays, but they are slow to process.\n",
    "\n",
    "NumPy aims to provide an array object that is up to 50x faster than traditional Python lists.\n",
    "\n",
    "The array object in NumPy is called ndarray, it provides a lot of supporting functions that make working with ndarray very easy."
   ]
  },
  {
   "cell_type": "markdown",
   "id": "b10f95ca",
   "metadata": {},
   "source": [
    "# Installation of NumPy\n",
    "If you have Python and PIP already installed on a system, then installation of NumPy is very easy.\n",
    "\n",
    "Install it using this command:"
   ]
  },
  {
   "cell_type": "markdown",
   "id": "936f51f0",
   "metadata": {},
   "source": [
    "# Import NumPy\n",
    "Once NumPy is installed, import it in your applications by adding the import keyword:"
   ]
  },
  {
   "cell_type": "code",
   "execution_count": 1,
   "id": "c70a91f5",
   "metadata": {},
   "outputs": [],
   "source": [
    "import numpy as np"
   ]
  },
  {
   "cell_type": "markdown",
   "id": "af0ebee7",
   "metadata": {},
   "source": [
    "# Example"
   ]
  },
  {
   "cell_type": "code",
   "execution_count": 2,
   "id": "675c1c6e",
   "metadata": {},
   "outputs": [
    {
     "name": "stdout",
     "output_type": "stream",
     "text": [
      "[1 2 3 4 5]\n"
     ]
    }
   ],
   "source": [
    "import numpy\n",
    "\n",
    "arr = numpy.array([1, 2, 3, 4, 5])\n",
    "\n",
    "print(arr)"
   ]
  },
  {
   "cell_type": "code",
   "execution_count": 3,
   "id": "72bc6fe8",
   "metadata": {},
   "outputs": [
    {
     "name": "stdout",
     "output_type": "stream",
     "text": [
      "[1 2 3 4 5]\n"
     ]
    }
   ],
   "source": [
    "import numpy as np\n",
    "\n",
    "arr = np.array([1, 2, 3, 4, 5])\n",
    "\n",
    "print(arr)"
   ]
  },
  {
   "cell_type": "markdown",
   "id": "7238937c",
   "metadata": {},
   "source": [
    "# Create a NumPy ndarray Object\n",
    "NumPy is used to work with arrays. The array object in NumPy is called ndarray.\n",
    "\n",
    "We can create a NumPy ndarray object by using the array() function"
   ]
  },
  {
   "cell_type": "code",
   "execution_count": 4,
   "id": "e9a0c471",
   "metadata": {},
   "outputs": [
    {
     "name": "stdout",
     "output_type": "stream",
     "text": [
      "[1 2 3 4 5]\n",
      "<class 'numpy.ndarray'>\n"
     ]
    }
   ],
   "source": [
    "import numpy as np\n",
    "\n",
    "arr = np.array([1, 2, 3, 4, 5])\n",
    "\n",
    "print(arr)\n",
    "\n",
    "print(type(arr))"
   ]
  },
  {
   "cell_type": "markdown",
   "id": "1b1e7371",
   "metadata": {},
   "source": [
    "# Dimensions in Arrays\n",
    "A dimension in arrays is one level of array depth (nested arrays)."
   ]
  },
  {
   "cell_type": "markdown",
   "id": "acbc6b1c",
   "metadata": {},
   "source": [
    "# 0-D Arrays\n",
    "0-D arrays, or Scalars, are the elements in an array. Each value in an array is a 0-D array."
   ]
  },
  {
   "cell_type": "code",
   "execution_count": 5,
   "id": "ad12b8b3",
   "metadata": {},
   "outputs": [
    {
     "name": "stdout",
     "output_type": "stream",
     "text": [
      "42\n"
     ]
    }
   ],
   "source": [
    "import numpy as np\n",
    "\n",
    "arr = np.array(42)\n",
    "\n",
    "print(arr)"
   ]
  },
  {
   "cell_type": "markdown",
   "id": "fa530cea",
   "metadata": {},
   "source": [
    "# 1-D Arrays\n",
    "An array that has 0-D arrays as its elements is called uni-dimensional or 1-D array.\n",
    "\n",
    "These are the most common and basic arrays."
   ]
  },
  {
   "cell_type": "code",
   "execution_count": 6,
   "id": "a71d4e17",
   "metadata": {},
   "outputs": [
    {
     "name": "stdout",
     "output_type": "stream",
     "text": [
      "[1 2 3 4 5]\n"
     ]
    }
   ],
   "source": [
    "import numpy as np\n",
    "\n",
    "arr = np.array([1, 2, 3, 4, 5])\n",
    "\n",
    "print(arr)\n"
   ]
  },
  {
   "cell_type": "markdown",
   "id": "d80781af",
   "metadata": {},
   "source": [
    "# 2-D Arrays\n",
    "An array that has 1-D arrays as its elements is called a 2-D array.\n",
    "\n",
    "These are often used to represent matrix or 2nd order tensors."
   ]
  },
  {
   "cell_type": "code",
   "execution_count": 7,
   "id": "a4eb749d",
   "metadata": {},
   "outputs": [
    {
     "name": "stdout",
     "output_type": "stream",
     "text": [
      "[[1 2 3]\n",
      " [4 5 6]]\n"
     ]
    }
   ],
   "source": [
    "arr = np.array([[1, 2, 3], [4, 5, 6]])\n",
    "\n",
    "print(arr)"
   ]
  },
  {
   "cell_type": "markdown",
   "id": "05fd81ac",
   "metadata": {},
   "source": [
    "# 3-D arrays\n",
    "An array that has 2-D arrays (matrices) as its elements is called 3-D array.\n",
    "\n",
    "These are often used to represent a 3rd order tensor."
   ]
  },
  {
   "cell_type": "code",
   "execution_count": 8,
   "id": "3e650f23",
   "metadata": {},
   "outputs": [
    {
     "name": "stdout",
     "output_type": "stream",
     "text": [
      "[[[1 2 3]\n",
      "  [4 5 6]]\n",
      "\n",
      " [[1 2 3]\n",
      "  [4 5 6]]]\n"
     ]
    }
   ],
   "source": [
    "arr = np.array([[[1, 2, 3], [4, 5, 6]], [[1, 2, 3], [4, 5, 6]]])\n",
    "\n",
    "print(arr)"
   ]
  },
  {
   "cell_type": "markdown",
   "id": "9b1769d5",
   "metadata": {},
   "source": [
    "# Check Number of Dimensions?\n",
    "NumPy Arrays provides the ndim attribute that returns an integer that tells us how many dimensions the array have."
   ]
  },
  {
   "cell_type": "code",
   "execution_count": 9,
   "id": "719c9f8e",
   "metadata": {},
   "outputs": [
    {
     "name": "stdout",
     "output_type": "stream",
     "text": [
      "0\n",
      "1\n",
      "2\n",
      "3\n"
     ]
    }
   ],
   "source": [
    "a = np.array(42)\n",
    "b = np.array([1, 2, 3, 4, 5])\n",
    "c = np.array([[1, 2, 3], [4, 5, 6]])\n",
    "d = np.array([[[1, 2, 3], [4, 5, 6]], [[1, 2, 3], [4, 5, 6]]])\n",
    "\n",
    "print(a.ndim)\n",
    "print(b.ndim)\n",
    "print(c.ndim)\n",
    "print(d.ndim)"
   ]
  },
  {
   "cell_type": "markdown",
   "id": "fbe7163b",
   "metadata": {},
   "source": [
    "# Access Array Elements\n",
    "Array indexing is the same as accessing an array element.\n",
    "\n",
    "You can access an array element by referring to its index number.\n",
    "\n",
    "The indexes in NumPy arrays start with 0, meaning that the first element has index 0, and the second has index 1 etc."
   ]
  },
  {
   "cell_type": "code",
   "execution_count": 10,
   "id": "f81c0ff6",
   "metadata": {},
   "outputs": [
    {
     "name": "stdout",
     "output_type": "stream",
     "text": [
      "1\n"
     ]
    }
   ],
   "source": [
    "arr = np.array([1, 2, 3, 4])\n",
    "\n",
    "print(arr[0])"
   ]
  },
  {
   "cell_type": "code",
   "execution_count": 11,
   "id": "84c98c01",
   "metadata": {},
   "outputs": [
    {
     "name": "stdout",
     "output_type": "stream",
     "text": [
      "7\n"
     ]
    }
   ],
   "source": [
    "arr = np.array([1, 2, 3, 4])\n",
    "\n",
    "print(arr[2] + arr[3])"
   ]
  },
  {
   "cell_type": "markdown",
   "id": "0d74d573",
   "metadata": {},
   "source": [
    "# Access 2-D Arrays\n",
    "To access elements from 2-D arrays we can use comma separated integers representing the dimension and the index of the element.\n",
    "\n",
    "Think of 2-D arrays like a table with rows and columns, where the row represents the dimension and the index represents the column."
   ]
  },
  {
   "cell_type": "code",
   "execution_count": 12,
   "id": "cf2091bf",
   "metadata": {},
   "outputs": [
    {
     "name": "stdout",
     "output_type": "stream",
     "text": [
      "2nd element on 1st row:  2\n"
     ]
    }
   ],
   "source": [
    "arr = np.array([[1,2,3,4,5], [6,7,8,9,10]])\n",
    "\n",
    "print('2nd element on 1st row: ', arr[0, 1])"
   ]
  },
  {
   "cell_type": "code",
   "execution_count": 13,
   "id": "8038d4c2",
   "metadata": {},
   "outputs": [
    {
     "name": "stdout",
     "output_type": "stream",
     "text": [
      "5th element on 2nd row:  10\n"
     ]
    }
   ],
   "source": [
    "arr = np.array([[1,2,3,4,5], [6,7,8,9,10]])\n",
    "\n",
    "print('5th element on 2nd row: ', arr[1, 4])"
   ]
  },
  {
   "cell_type": "code",
   "execution_count": 14,
   "id": "5d61890d",
   "metadata": {},
   "outputs": [
    {
     "name": "stdout",
     "output_type": "stream",
     "text": [
      "6\n"
     ]
    }
   ],
   "source": [
    "arr = np.array([[[1, 2, 3], [4, 5, 6]], [[7, 8, 9], [10, 11, 12]]])\n",
    "\n",
    "print(arr[0, 1, 2])"
   ]
  },
  {
   "cell_type": "markdown",
   "id": "3483f8a2",
   "metadata": {},
   "source": [
    "# Slicing arrays\n",
    "Slicing in python means taking elements from one given index to another given index.\n",
    "\n",
    "We pass slice instead of index like this: [start:end].\n",
    "\n",
    "We can also define the step, like this: [start:end:step].\n",
    "\n",
    "If we don't pass start its considered 0\n",
    "\n",
    "If we don't pass end its considered length of array in that dimension\n",
    "\n",
    "If we don't pass step its considered 1"
   ]
  },
  {
   "cell_type": "code",
   "execution_count": 15,
   "id": "14ece83c",
   "metadata": {},
   "outputs": [
    {
     "name": "stdout",
     "output_type": "stream",
     "text": [
      "[2 3 4 5]\n"
     ]
    }
   ],
   "source": [
    "arr = np.array([1, 2, 3, 4, 5, 6, 7])\n",
    "\n",
    "print(arr[1:5])"
   ]
  },
  {
   "cell_type": "code",
   "execution_count": 16,
   "id": "0263d405",
   "metadata": {},
   "outputs": [
    {
     "name": "stdout",
     "output_type": "stream",
     "text": [
      "[5 6 7]\n"
     ]
    }
   ],
   "source": [
    "arr = np.array([1, 2, 3, 4, 5, 6, 7])\n",
    "\n",
    "print(arr[4:])"
   ]
  },
  {
   "cell_type": "code",
   "execution_count": 17,
   "id": "fb2391b7",
   "metadata": {},
   "outputs": [
    {
     "name": "stdout",
     "output_type": "stream",
     "text": [
      "[1 2 3 4]\n"
     ]
    }
   ],
   "source": [
    "arr = np.array([1, 2, 3, 4, 5, 6, 7])\n",
    "\n",
    "print(arr[:4])"
   ]
  },
  {
   "cell_type": "code",
   "execution_count": 18,
   "id": "aad15e03",
   "metadata": {},
   "outputs": [
    {
     "name": "stdout",
     "output_type": "stream",
     "text": [
      "[7 8 9]\n"
     ]
    }
   ],
   "source": [
    "arr = np.array([[1, 2, 3, 4, 5], [6, 7, 8, 9, 10]])\n",
    "\n",
    "print(arr[1, 1:4])"
   ]
  },
  {
   "cell_type": "code",
   "execution_count": null,
   "id": "3bacd480",
   "metadata": {},
   "outputs": [],
   "source": []
  }
 ],
 "metadata": {
  "kernelspec": {
   "display_name": "Python 3 (ipykernel)",
   "language": "python",
   "name": "python3"
  },
  "language_info": {
   "codemirror_mode": {
    "name": "ipython",
    "version": 3
   },
   "file_extension": ".py",
   "mimetype": "text/x-python",
   "name": "python",
   "nbconvert_exporter": "python",
   "pygments_lexer": "ipython3",
   "version": "3.9.12"
  }
 },
 "nbformat": 4,
 "nbformat_minor": 5
}
