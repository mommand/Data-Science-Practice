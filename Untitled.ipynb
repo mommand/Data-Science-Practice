{
 "cells": [
  {
   "cell_type": "markdown",
   "id": "77dc155d",
   "metadata": {},
   "source": [
    "lets assume we have data as below;- x = [1, 1, 1, 1, 0, 0, 0, 0, 0] y = [0, 0, 1, 1, 1, 1, 0, 0, 0]"
   ]
  },
  {
   "cell_type": "code",
   "execution_count": 2,
   "id": "1c39e532",
   "metadata": {},
   "outputs": [
    {
     "name": "stdout",
     "output_type": "stream",
     "text": [
      "The Cosine Similarity between two vectors is:  0.5\n"
     ]
    }
   ],
   "source": [
    "#import modules\n",
    "import numpy as np\n",
    "from numpy import dot\n",
    "from numpy.linalg import norm\n",
    "\n",
    "#define arrays\n",
    "x = np.array([1, 1, 1, 1, 0, 0, 0, 0, 0]) \n",
    "y = np.array([0, 0, 1, 1, 1, 1, 0, 0, 0])\n",
    "\n",
    "#calculate Cosine Similarity python\n",
    "result = dot(x, y)/(norm(x)*norm(y))\n",
    "\n",
    "print(\"The Cosine Similarity between two vectors is: \",result)"
   ]
  },
  {
   "cell_type": "markdown",
   "id": "1d8fb09a",
   "metadata": {},
   "source": [
    "In the above code, we import numpy package to use dot() and norm() functions to calculate Cosine Similarity in python."
   ]
  },
  {
   "cell_type": "markdown",
   "id": "0b486e96",
   "metadata": {},
   "source": [
    "Using dot(x, y)/(norm(x)*norm(y)), we calculate the cosine similarity between two vectors x & y in python."
   ]
  },
  {
   "cell_type": "markdown",
   "id": "8cdfed63",
   "metadata": {},
   "source": [
    "we will calculate Python Cosine similarity between two randomly generated arrays of the same length in python with the given below code."
   ]
  },
  {
   "cell_type": "code",
   "execution_count": 3,
   "id": "06e9846d",
   "metadata": {},
   "outputs": [
    {
     "name": "stdout",
     "output_type": "stream",
     "text": [
      "The Cosine Similarity between two vectors is:  0.706556352673566\n"
     ]
    }
   ],
   "source": [
    "#import modules\n",
    "import numpy as np\n",
    "from numpy import dot\n",
    "from numpy.linalg import norm\n",
    "\n",
    "#define arrays\n",
    "x = np.random.randint(10, size=100)\n",
    "y = np.random.randint(10, size=100)\n",
    "\n",
    "# Calculate Cosine Similarity Python\n",
    "result = dot(x, y)/(norm(x)*norm(y))\n",
    "\n",
    "print(\"The Cosine Similarity between two vectors is: \",result)"
   ]
  },
  {
   "cell_type": "markdown",
   "id": "7e283872",
   "metadata": {},
   "source": []
  },
  {
   "cell_type": "code",
   "execution_count": 5,
   "id": "0196c684",
   "metadata": {},
   "outputs": [],
   "source": [
    "import numpy as np\n",
    "\n",
    "def cosine_similarity(x, y):\n",
    "    \n",
    "    # Ensure length of x and y are the same\n",
    "    if len(x) != len(y) :\n",
    "        return None\n",
    "    \n",
    "    # Compute the dot product between x and y\n",
    "    dot_product = np.dot(x, y)\n",
    "    \n",
    "    # Compute the L2 norms (magnitudes) of x and y\n",
    "    magnitude_x = np.sqrt(np.sum(x**2)) \n",
    "    magnitude_y = np.sqrt(np.sum(y**2))\n",
    "    \n",
    "    # Compute the cosine similarity\n",
    "    cosine_similarity = dot_product / (magnitude_x * magnitude_y)\n",
    "    \n",
    "    return cosine_similarity"
   ]
  },
  {
   "cell_type": "code",
   "execution_count": 6,
   "id": "8a25b168",
   "metadata": {},
   "outputs": [],
   "source": [
    "corpus = [  'data science is one of the most important fields of science',\n",
    "            'this is one of the best data science courses',\n",
    "            'data scientists analyze data'   ]"
   ]
  },
  {
   "cell_type": "markdown",
   "id": "233cea6e",
   "metadata": {},
   "source": [
    "Using sklearn, we'll vectorize the documents:"
   ]
  },
  {
   "cell_type": "code",
   "execution_count": 8,
   "id": "74921eed",
   "metadata": {},
   "outputs": [
    {
     "name": "stdout",
     "output_type": "stream",
     "text": [
      "[[0 0 0 1 1 1 1 1 2 1 2 0 1 0]\n",
      " [0 1 1 1 0 0 1 0 1 1 1 0 1 1]\n",
      " [1 0 0 2 0 0 0 0 0 0 0 1 0 0]]\n"
     ]
    }
   ],
   "source": [
    "from sklearn.feature_extraction.text import CountVectorizer\n",
    "\n",
    "# Create a matrix to represent the corpus\n",
    "X = CountVectorizer().fit_transform(corpus).toarray()\n",
    "\n",
    "print(X)"
   ]
  },
  {
   "cell_type": "markdown",
   "id": "3cbf4c4d",
   "metadata": {},
   "source": [
    "With the above vectors, we can now compute cosine similarity between the corpus documents:"
   ]
  },
  {
   "cell_type": "code",
   "execution_count": 9,
   "id": "3fb38c8b",
   "metadata": {},
   "outputs": [
    {
     "name": "stdout",
     "output_type": "stream",
     "text": [
      "Cosine Similarity between: \n",
      "\tDocument 1 and Document 2:  0.6885303726590962\n",
      "\tDocument 1 and Document 3:  0.21081851067789195\n",
      "\tDocument 2 and Document 3:  0.2721655269759087\n"
     ]
    }
   ],
   "source": [
    "cos_sim_1_2 = cosine_similarity(X[0, :], X[1, :])\n",
    "cos_sim_1_3 = cosine_similarity(X[0, :], X[2, :])\n",
    "cos_sim_2_3 = cosine_similarity(X[1, :], X[2, :])\n",
    "\n",
    "print('Cosine Similarity between: ')\n",
    "print('\\tDocument 1 and Document 2: ', cos_sim_1_2)\n",
    "print('\\tDocument 1 and Document 3: ', cos_sim_1_3)\n",
    "print('\\tDocument 2 and Document 3: ', cos_sim_2_3)"
   ]
  },
  {
   "cell_type": "markdown",
   "id": "83427d61",
   "metadata": {},
   "source": [
    "### Eucludein Distance\n",
    "The NumPy module has a norm() method, which can be used to find the required distance when the data is provided in the form of an array.\n",
    "\n",
    "The norm() method returns the vector norm of an array."
   ]
  },
  {
   "cell_type": "code",
   "execution_count": 11,
   "id": "4139d40b",
   "metadata": {},
   "outputs": [
    {
     "name": "stdout",
     "output_type": "stream",
     "text": [
      "3.7416573867739413\n"
     ]
    }
   ],
   "source": [
    " #Python code to find Euclidean distance\n",
    "# using linalg.norm()\n",
    "\n",
    "# Import NumPy Library\n",
    "import numpy as np\n",
    "\n",
    "# initializing points in\n",
    "# numpy arrays\n",
    "point1 = np.array((4, 4, 2))\n",
    "point2 = np.array((1, 2, 1))\n",
    "\n",
    "# calculate Euclidean distance\n",
    "# using linalg.norm() method\n",
    "dist = np.linalg.norm(point1 - point2)\n",
    "\n",
    "# printing Euclidean distance\n",
    "print(dist)"
   ]
  },
  {
   "cell_type": "markdown",
   "id": "9286f4ce",
   "metadata": {},
   "source": [
    "### Method 2: Using dot() and sqrt() methods\n",
    "We can leverage the NumPy dot() method for finding the dot product of the difference of points, and by doing the square root of the output returned by the dot() method, we will be getting the Euclidean distance. "
   ]
  },
  {
   "cell_type": "code",
   "execution_count": 12,
   "id": "d1965d43",
   "metadata": {},
   "outputs": [
    {
     "name": "stdout",
     "output_type": "stream",
     "text": [
      "3.7416573867739413\n"
     ]
    }
   ],
   "source": [
    "# Python code to find Euclidean distance\n",
    "# using dot() and sqrt() methods\n",
    "\n",
    "# Import NumPy Library\n",
    "import numpy as np\n",
    "\n",
    "# initializing points in\n",
    "# numpy arrays\n",
    "point1 = np.array((4, 4, 2))\n",
    "point2 = np.array((1, 2, 1))\n",
    "\n",
    "# subtracting both the vectors\n",
    "temp = point1 - point2\n",
    " \n",
    "# Perform dot product\n",
    "# and do the square root\n",
    "dist = np.sqrt(np.dot(temp.T, temp))\n",
    " \n",
    "# printing Euclidean distance\n",
    "print(dist)"
   ]
  },
  {
   "cell_type": "markdown",
   "id": "02ae2a39",
   "metadata": {},
   "source": [
    "### Method 3: Using square() and sum() methods\n",
    "Another alternate way is to apply the mathematical formula (d = √[(x2 – x1)2 + (y2 – y1)2]) using the NumPy Module to Calculate Euclidean Distance in Python\n",
    "\n",
    "The sum() function will return the sum of elements, and we will apply the square root to the returned element to get the Euclidean distance."
   ]
  },
  {
   "cell_type": "code",
   "execution_count": 13,
   "id": "9474938b",
   "metadata": {},
   "outputs": [
    {
     "name": "stdout",
     "output_type": "stream",
     "text": [
      "3.7416573867739413\n"
     ]
    }
   ],
   "source": [
    "# Python code to find Euclidean distance\n",
    "# using square() and sum() methods\n",
    "\n",
    "# Import NumPy Library\n",
    "import numpy as np\n",
    "\n",
    "# initializing points in\n",
    "# numpy arrays\n",
    "point1 = np.array((4, 4, 2))\n",
    "point2 = np.array((1, 2, 1))\n",
    "\n",
    "# finding sum of squares\n",
    "sum_vectors = np.sum(np.square(point1 - point2))\n",
    " \n",
    "# perform the squareroot and\n",
    "# print Euclidean distance\n",
    "print(np.sqrt(sum_vectors))"
   ]
  },
  {
   "cell_type": "markdown",
   "id": "72eecce8",
   "metadata": {},
   "source": [
    "### Method 4: Using distance.euclidean() from SciPy Module\n",
    "We discussed several methods to Calculate Euclidean distance in Python using the NumPy module. These methods can be slower when it comes to performance, and hence we can use the SciPy library, which is much more performance efficient.\n",
    "\n",
    "The SciPy module is mainly used for mathematical and scientific calculations. It has a built-in distance.euclidean() method that returns the Euclidean Distance between two points."
   ]
  },
  {
   "cell_type": "code",
   "execution_count": 14,
   "id": "79db1997",
   "metadata": {},
   "outputs": [
    {
     "name": "stdout",
     "output_type": "stream",
     "text": [
      "3.7416573867739413\n"
     ]
    }
   ],
   "source": [
    "# Python code to find Euclidean distance\n",
    "# using distance.euclidean() method\n",
    "\n",
    "# Import SciPi Library\n",
    "from scipy.spatial import distance\n",
    "\n",
    "# initializing points in\n",
    "# numpy arrays\n",
    "point1 = (4, 4, 2)\n",
    "point2 = (1, 2, 1)\n",
    " \n",
    "# print Euclidean distance \n",
    "print(distance.euclidean(point1,point2))"
   ]
  },
  {
   "cell_type": "markdown",
   "id": "f1504515",
   "metadata": {},
   "source": [
    "### Z-Score calculation"
   ]
  },
  {
   "cell_type": "markdown",
   "id": "586f48d4",
   "metadata": {},
   "source": [
    "In order to calculate the z-score, we need to first calculate the mean and the standard deviation of an array"
   ]
  },
  {
   "cell_type": "code",
   "execution_count": 21,
   "id": "07e3083e",
   "metadata": {},
   "outputs": [
    {
     "name": "stdout",
     "output_type": "stream",
     "text": [
      "4.458563432181702\n",
      "[-1.1961999452194811, -0.9719124554908285, -0.7476249657621759, -0.7476249657621759, -0.7476249657621759, -0.5233374760335231, -0.2990499863048704, 0.5980999726097405, 0.8223874623383931, 0.8223874623383931, 1.0466749520670457, 1.9438249109816566]\n"
     ]
    }
   ],
   "source": [
    "values = [4,5,6,6,6,7,8,12,13,13,14,18]\n",
    "# Calculate the Standard Deviation in Python\n",
    "mean = sum(values) / len(values)\n",
    "differences = [(value - mean)**2 for value in values]\n",
    "sum_of_differences = sum(differences)\n",
    "standard_deviation = (sum_of_differences / (len(values) - 1)) ** 0.5\n",
    "\n",
    "print(standard_deviation)\n",
    "# Returns: 1.3443074553223537\n",
    "\n",
    "zscores = [(value - mean) / standard_deviation for value in values]\n",
    "\n",
    "print(zscores)"
   ]
  },
  {
   "cell_type": "code",
   "execution_count": 20,
   "id": "78bcae85",
   "metadata": {},
   "outputs": [
    {
     "name": "stdout",
     "output_type": "stream",
     "text": [
      "[-1.2493901  -1.01512945 -0.78086881 -0.78086881 -0.78086881 -0.54660817\n",
      " -0.31234752  0.62469505  0.85895569  0.85895569  1.09321633  2.0302589 ]\n"
     ]
    }
   ],
   "source": [
    "import scipy.stats as stats\n",
    "zscores = stats.zscore(values)\n",
    "print(zscores)"
   ]
  },
  {
   "cell_type": "code",
   "execution_count": null,
   "id": "4a66f8f3",
   "metadata": {},
   "outputs": [],
   "source": []
  }
 ],
 "metadata": {
  "kernelspec": {
   "display_name": "Python 3 (ipykernel)",
   "language": "python",
   "name": "python3"
  },
  "language_info": {
   "codemirror_mode": {
    "name": "ipython",
    "version": 3
   },
   "file_extension": ".py",
   "mimetype": "text/x-python",
   "name": "python",
   "nbconvert_exporter": "python",
   "pygments_lexer": "ipython3",
   "version": "3.9.12"
  }
 },
 "nbformat": 4,
 "nbformat_minor": 5
}
